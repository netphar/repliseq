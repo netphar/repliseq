{
 "cells": [
  {
   "cell_type": "code",
   "execution_count": 1,
   "id": "15ca330b-e35d-4828-8007-fe83a34b1357",
   "metadata": {},
   "outputs": [],
   "source": [
    "import numpy as np\n",
    "import pandas as pd\n",
    "import seaborn as sns\n",
    "\n",
    "from mymodule.func import *\n",
    "from datetime import date\n",
    "\n",
    "sns.set(font_scale = 1.2)\n",
    "np.set_printoptions(suppress=True)\n",
    "pd.set_option(\"display.max_rows\", 100)"
   ]
  },
  {
   "cell_type": "markdown",
   "id": "592cb724-f0b3-40b3-9239-48bbf6d3b848",
   "metadata": {},
   "source": [
    "## mESC preprocessing"
   ]
  },
  {
   "cell_type": "code",
   "execution_count": 2,
   "id": "27f761bd-65d8-4ca6-a4a4-77e642042be3",
   "metadata": {},
   "outputs": [
    {
     "name": "stdout",
     "output_type": "stream",
     "text": [
      "GSE137764_mESC_Gaussiansmooth_scaled_autosome.mat.gz with 2.09% missing\n"
     ]
    }
   ],
   "source": [
    "df = readDF('GSE137764_mESC_Gaussiansmooth_scaled_autosome.mat.gz', drop_labels=None) #2.35% for only repliseq data"
   ]
  },
  {
   "cell_type": "code",
   "execution_count": 3,
   "id": "771bed0a-c1fb-4594-a6c7-3a7138f2ee80",
   "metadata": {},
   "outputs": [
    {
     "name": "stdout",
     "output_type": "stream",
     "text": [
      "no nans after filling\n"
     ]
    }
   ],
   "source": [
    "# fillNA, chr by chr\n",
    "df_filled = pd.DataFrame(columns=df.columns, index=df.index, data=np.zeros_like(df.values))\n",
    "\n",
    "for chr_idx in range(1,20,1):\n",
    "    temp_cols = getChrCols(df, chr_idx=chr_idx)\n",
    "    df_filled.loc[:, temp_cols] = fillNAnearest(df.loc[:, temp_cols])\n",
    "    \n",
    "if len(getNAcols(df_filled)) == 0:\n",
    "    print('no nans after filling')"
   ]
  },
  {
   "cell_type": "code",
   "execution_count": 5,
   "id": "05d46081-6900-44d0-bd59-215112bab6a2",
   "metadata": {},
   "outputs": [
    {
     "name": "stdout",
     "output_type": "stream",
     "text": [
      "MSIdelGeneCoordinatesNEW_bulat.txt with 0.0% missing\n",
      "624 genes\n"
     ]
    }
   ],
   "source": [
    "soft_labels = readDF('MSIdelGeneCoordinatesNEW_bulat.txt', drop_labels=None)\n",
    "soft_labels = soft_labels.loc[~(soft_labels['chr']=='chrX'), :]\n",
    "soft_labels = soft_labels.sort_values(by='chr', key=lambda col: [int(x[3:]) for x in col] ).reset_index(drop=True, inplace=False)\n",
    "\n",
    "# get bins for genes of interest\n",
    "\n",
    "l = []\n",
    "for chr_idx in range(1,20,1):\n",
    "    out = getBinID(soft_labels, chr_idx=chr_idx)\n",
    "    if out.isna().any().any():\n",
    "        pass\n",
    "    else:\n",
    "        out['bins'] = out.apply(bin_counter, axis=1)\n",
    "        l.append(out)\n",
    "df_genes_bins = pd.concat(l)\n",
    "print(f'{df_genes_bins.shape[0]} genes')"
   ]
  },
  {
   "cell_type": "code",
   "execution_count": 6,
   "id": "f515673e-34b6-4d66-8779-2e563b752282",
   "metadata": {},
   "outputs": [
    {
     "name": "stdout",
     "output_type": "stream",
     "text": [
      "MSIinsGeneCoordinatesNEW_bulat.txt with 0.0% missing\n",
      "84 genes\n"
     ]
    }
   ],
   "source": [
    "# reading in the genic coordinates of interest. insertions\n",
    "# soft_labels1 = readDF('hotspotInsertionsGeneCoordinatesNEW_bulat.txt', drop_labels=None) <- old list of genes\n",
    "soft_labels1 = readDF('MSIinsGeneCoordinatesNEW_bulat.txt', drop_labels=None)\n",
    "soft_labels1 = soft_labels1.loc[~(soft_labels1['chr']=='chrX'), :]\n",
    "soft_labels1 = soft_labels1.sort_values(by='chr', key=lambda col: [int(x[3:]) for x in col] ).reset_index(drop=True, inplace=False)\n",
    "\n",
    "# get bins for genes of interest\n",
    "\n",
    "l1 = []\n",
    "for chr_idx in range(1,20,1):\n",
    "    out = getBinID(soft_labels1, chr_idx=chr_idx)\n",
    "    if out.isna().any().any():\n",
    "        pass\n",
    "    else:\n",
    "        out['bins'] = out.apply(bin_counter, axis=1)\n",
    "        l1.append(out)\n",
    "df_genes_bins1 = pd.concat(l1)\n",
    "print(f'{df_genes_bins1.shape[0]} genes')"
   ]
  },
  {
   "cell_type": "code",
   "execution_count": 7,
   "id": "a3982009-e83b-4d5a-b60e-a05c1455309c",
   "metadata": {},
   "outputs": [
    {
     "name": "stdout",
     "output_type": "stream",
     "text": [
      " 16/16... rate=0.14 Hz, eta=0:00:00, total=0:01:57, wall=09:36 UTC\n",
      "no nans after smoothing/scaling\n"
     ]
    }
   ],
   "source": [
    "# gaussian smoothing\n",
    "df_filled_smoothed = pd.DataFrame(columns=df_filled.columns, index=df_filled.index, data=np.zeros_like(df_filled.values))\n",
    "df_filled_smoothed.iloc[2:,:] = gausssmoothing(df_filled.iloc[2:,:].values)\n",
    "df_filled_smoothed.iloc[:2,:] = df_filled.iloc[:2,:]\n",
    "\n",
    "# scaling to sum=100 for each column\n",
    "df_filled_smoothed_scaled = pd.DataFrame(columns=df_filled_smoothed.columns, index=df_filled_smoothed.index, data=np.zeros_like(df_filled_smoothed.values))\n",
    "df_filled_smoothed_scaled.iloc[2:,:] = scalingto100range(df_filled_smoothed.iloc[2:,:].values)\n",
    "df_filled_smoothed_scaled.iloc[:2,:] = df_filled_smoothed.iloc[:2,:]\n",
    "\n",
    "if len(getNAcols(df_filled_smoothed_scaled)) == 0:\n",
    "    print('no nans after smoothing/scaling')"
   ]
  },
  {
   "cell_type": "code",
   "execution_count": 8,
   "id": "60f47839-e7dc-450f-bc27-ae0e7fdc7c59",
   "metadata": {},
   "outputs": [],
   "source": [
    "df_filled_smoothed_scaled1 = df_filled_smoothed_scaled # since i dont wanna rename anything in the downstream cells"
   ]
  },
  {
   "cell_type": "code",
   "execution_count": 9,
   "id": "10ac8720-a616-4ab2-8fe0-bdd99386ea4b",
   "metadata": {},
   "outputs": [],
   "source": [
    "holder=dict()\n",
    "\n",
    "for chr_idx in range(1,20):\n",
    "\n",
    "    df_test = df_filled_smoothed_scaled1.loc[2:, getChrCols(df, chr_idx=chr_idx)].copy() # df for single chr. smoothed & imputed\n",
    "\n",
    "    s_s50 = df_test.apply(getS50, step=0.25) # s50 profile pd.series\n",
    "    s_sdiff = df_test.apply(getSdiff, step=0.25) # IQR profiles of s50 pd.series\n",
    "\n",
    "    l_bins_noisy = filterNoisy(s_sdiff, filter_Z_at=1.65, filter_bins_at=10) # Noisy cols\n",
    "    l_na = getNAcols(df.loc[2:, getChrCols(df, chr_idx=chr_idx)]) # NA cols\n",
    "    ar_skipping_bin = np.in1d(s_s50.index, np.unique(np.concatenate([l_na, l_bins_noisy]))) # binary\n",
    "\n",
    "    # IZ\n",
    "    prior = list(set(l_na+l_bins_noisy))\n",
    "    iz_bins = getIZ_short(s_s50.where(ar_skipping_bin==False, other=-1), prominence=0.01, return_plateau=True).tolist()\n",
    "    iz_bins = [x for x in iz_bins if x not in prior]\n",
    "    # terminations\n",
    "    prior = list(set(prior+iz_bins))\n",
    "    term_bins = getTermination_short(s_s50.where(ar_skipping_bin==False, other=-1), plateau_size=[1,3], prominence=0.05, return_plateau=True).tolist()\n",
    "    term_bins = [x for x in term_bins if x not in prior]\n",
    "    # ttr & breaks\n",
    "    prior = list(set(prior+term_bins))    \n",
    "    ttr_breaks_bins = list(chain.from_iterable(getTTRsBreaks_short(s_s50, bins_skip=[l_na, l_bins_noisy])))\n",
    "    ttr_breaks_bins = [x for x in ttr_breaks_bins if x not in prior]\n",
    "    # ctr\n",
    "    prior = list(set(prior+ttr_breaks_bins))\n",
    "    ctr_bins = list(chain.from_iterable(getCTR_short(s_s50)))\n",
    "    ctr_bins = [x for x in ctr_bins if x not in prior]\n",
    "    # other\n",
    "    prior = list(set(prior+ctr_bins))    \n",
    "    other = [x for x in s_s50.index if x not in prior]\n",
    "        \n",
    "    holder[str(chr_idx)]={'s50':s_s50, 'iz':iz_bins, 'termination':term_bins, 'ttr_breaks':ttr_breaks_bins, 'ctr':ctr_bins, 'noisy': list(set(l_na+l_bins_noisy)), 'other':other}\n"
   ]
  },
  {
   "cell_type": "code",
   "execution_count": 10,
   "id": "437ef470-c42d-4352-ae5f-6a83414009f9",
   "metadata": {},
   "outputs": [],
   "source": [
    "holder_frac={}\n",
    "for chr_idx, val in holder.items():\n",
    "    s=len(val[\"s50\"])\n",
    "    iz = round(100*len(val[\"iz\"])/s, 2)\n",
    "    termination = round(100*len(val[\"termination\"])/s, 2)\n",
    "    ttr_breaks = round(100*len(val[\"ttr_breaks\"])/s, 2)\n",
    "    ctr = round(100*len(val[\"ctr\"])/s, 2)\n",
    "    other = round(100*len(val[\"other\"])/s, 2)\n",
    "    noisy = round(100*len(val[\"noisy\"])/s, 2)\n",
    "    holder_frac[chr_idx] = {'iz':iz, 'termination':termination, 'ttr_breaks':ttr_breaks, 'ctr':ctr, 'other':other, 'noisy':noisy}"
   ]
  },
  {
   "cell_type": "code",
   "execution_count": 11,
   "id": "db9f3643-14b1-4614-a155-790ab53184b0",
   "metadata": {},
   "outputs": [
    {
     "name": "stdout",
     "output_type": "stream",
     "text": [
      "[('izs', 9.6), ('terminations', 4.46), ('ttr_breaks', 60.25), ('ctrs', 7.25), ('others', 15.0), ('noisy', 3.44)]\n"
     ]
    }
   ],
   "source": [
    "izs = [x['iz'] for x in holder_frac.values()]\n",
    "terminations = [x['termination'] for x in holder_frac.values()]\n",
    "ttr_breaks = [x['ttr_breaks'] for x in holder_frac.values()]\n",
    "ctrs = [x['ctr'] for x in holder_frac.values()]\n",
    "others = [x['other'] for x in holder_frac.values()]\n",
    "noisy = [x['noisy'] for x in holder_frac.values()]\n",
    "\n",
    "print([(label, round(np.mean(x),2) ) for x,label in zip([izs, terminations, ttr_breaks, ctrs, others, noisy], ['izs', 'terminations', 'ttr_breaks', 'ctrs', 'others', 'noisy']) ])"
   ]
  },
  {
   "cell_type": "markdown",
   "id": "505fd29d-9618-4d95-bf67-57ce53e5f9da",
   "metadata": {},
   "source": [
    "### genome vs exome"
   ]
  },
  {
   "cell_type": "code",
   "execution_count": 12,
   "id": "9da26f52-5182-44ae-bf7b-92fd5c42c99e",
   "metadata": {},
   "outputs": [],
   "source": [
    "l_izs = list(chain.from_iterable([x[\"iz\"] for x in holder.values()]))\n",
    "l_terminations = list(chain.from_iterable([x[\"termination\"] for x in holder.values()]))\n",
    "l_ttr_breaks = list(chain.from_iterable([x[\"ttr_breaks\"] for x in holder.values()]))\n",
    "l_ctrs = list(chain.from_iterable([x[\"ctr\"] for x in holder.values()]))\n",
    "l_noisy = list(chain.from_iterable([x[\"noisy\"] for x in holder.values()]))\n",
    "l_other = list(chain.from_iterable([x[\"other\"] for x in holder.values()]))"
   ]
  },
  {
   "cell_type": "code",
   "execution_count": 13,
   "id": "2ae4e9de-8610-4f73-beb8-fecb0cd8c888",
   "metadata": {},
   "outputs": [],
   "source": [
    "exome=pd.read_csv('exome_100bp_padding.bed', sep='\\t', header=None)\n",
    "exome.columns = ['chr','start','end']"
   ]
  },
  {
   "cell_type": "code",
   "execution_count": 14,
   "id": "b3f1d20b-76ae-44a4-bb1b-5c76094582d8",
   "metadata": {},
   "outputs": [],
   "source": [
    "exome = exome.loc[~(exome['chr']=='chrX'), :]\n",
    "exome = exome.loc[~(exome['chr']=='chrY'), :]\n",
    "exome = exome.loc[~(exome['chr']=='chrM'), :]\n",
    "exome = exome.sort_values(by='chr', key=lambda col: [int(x[3:]) for x in col] ).reset_index(drop=True, inplace=False)\n"
   ]
  },
  {
   "cell_type": "code",
   "execution_count": 15,
   "id": "554e865e-1a7b-4b2d-93ec-03f929f0b962",
   "metadata": {},
   "outputs": [],
   "source": [
    "l2 = []\n",
    "for chr_idx in range(1,20,1):\n",
    "    out = getBinID(exome, chr_idx=chr_idx, is_gene=False)\n",
    "    if out.isna().any().any():\n",
    "        pass\n",
    "    else:\n",
    "        out['bins'] = out.apply(bin_counter, axis=1)\n",
    "        l2.append(out)\n",
    "df_genes_bins2 = pd.concat(l2)"
   ]
  },
  {
   "cell_type": "code",
   "execution_count": 16,
   "id": "5276af2f-fb48-44f0-a486-688e0af2e470",
   "metadata": {},
   "outputs": [],
   "source": [
    "exome_bins={}\n",
    "for chr_idx in range(1,20):\n",
    "    c = 'chr'+str(chr_idx)\n",
    "    exome_bins[c]=list(set(chain.from_iterable(df_genes_bins2[df_genes_bins2['chr']==c].bins.values.tolist())))"
   ]
  },
  {
   "cell_type": "code",
   "execution_count": 17,
   "id": "b85696ff-8b5f-4bf9-bd89-acb717be92b3",
   "metadata": {},
   "outputs": [],
   "source": [
    "l_all_exome=[]\n",
    "idx=[]\n",
    "for c, bins in exome_bins.items():\n",
    "    str_bins=[c+'.'+str(subbin) for subbin in bins]   \n",
    "    idx.append(c)\n",
    "    verdict=[]\n",
    "    for b in str_bins:\n",
    "        if b in l_izs:\n",
    "            verdict.append('IZ')\n",
    "        elif b in l_terminations:\n",
    "            verdict.append('termination')\n",
    "        elif b in l_ttr_breaks:\n",
    "            verdict.append('TTR or breakage')\n",
    "        elif b in l_ctrs:\n",
    "            verdict.append('CTR')\n",
    "        elif b in l_noisy:\n",
    "            verdict.append('noisy')\n",
    "        else:\n",
    "            verdict.append('other')\n",
    "    l_all_exome.append(pd.DataFrame.from_dict(Counter(verdict), orient='index').T)\n",
    "df_exome=pd.concat(l_all_exome)\n",
    "df_exome.fillna(0, inplace=True)\n",
    "df_exome.index=idx\n",
    "df_exome.loc[:,'noisy'] = df_exome.loc[:,'noisy'].astype(int)"
   ]
  },
  {
   "cell_type": "code",
   "execution_count": 18,
   "id": "c3c2660d-0828-4864-ad56-dbf51b28ca5c",
   "metadata": {},
   "outputs": [],
   "source": [
    "df_exome.to_csv('exome_counts_per_categ_mESC.csv', sep='\\t')"
   ]
  },
  {
   "cell_type": "markdown",
   "id": "0fdcfc3f-a398-4af8-a1d5-86c28ce20b05",
   "metadata": {},
   "source": [
    "### deletions"
   ]
  },
  {
   "cell_type": "code",
   "execution_count": 19,
   "id": "b4820cff-863f-458d-8758-806886742845",
   "metadata": {},
   "outputs": [],
   "source": [
    "izs = list(chain.from_iterable([x[\"iz\"] for x in holder.values()]))\n",
    "terminations = list(chain.from_iterable([x[\"termination\"] for x in holder.values()]))\n",
    "ttr_breaks = list(chain.from_iterable([x[\"ttr_breaks\"] for x in holder.values()]))\n",
    "ctrs = list(chain.from_iterable([x[\"ctr\"] for x in holder.values()]))\n",
    "noisy = list(chain.from_iterable([x[\"noisy\"] for x in holder.values()]))\n",
    "other = list(chain.from_iterable([x[\"other\"] for x in holder.values()]))"
   ]
  },
  {
   "cell_type": "code",
   "execution_count": 20,
   "id": "cc651f7b-c1ce-4000-9631-1a61a3882e3f",
   "metadata": {},
   "outputs": [],
   "source": [
    "l_all=[]\n",
    "for _,x in df_genes_bins.iterrows():\n",
    "    \n",
    "    bins=[x['chr']+'.'+str(subbin) for subbin in x['bins']]   \n",
    "    verdict=[]\n",
    "    for b in bins:\n",
    "        if b in l_izs:\n",
    "            verdict.append('IZ')\n",
    "        elif b in l_terminations:\n",
    "            verdict.append('termination')\n",
    "        elif b in l_ttr_breaks:\n",
    "            verdict.append('TTR or breakage')\n",
    "        elif b in l_ctrs:\n",
    "            verdict.append('CTR')\n",
    "        elif b in l_noisy:\n",
    "            verdict.append('noisy')\n",
    "        else:\n",
    "            verdict.append('other')\n",
    "    l_all.append([x['genename'],\n",
    "                  round(df_filled_smoothed_scaled1.loc[2:, bins].apply(getS50, step=0.1).mean(), 2),\n",
    "                  #soft_labels[soft_labels['genename']==x['genename']]['replication_feature'].values[0],\n",
    "                  Counter(verdict).most_common()[0][0],Counter(verdict).most_common()[0][1],\n",
    "                  Counter(verdict).most_common()[1:]]\n",
    "                  )"
   ]
  },
  {
   "cell_type": "code",
   "execution_count": 21,
   "id": "50e6e66c-cc1f-4ec5-bcaa-a89a3dcf4d5d",
   "metadata": {},
   "outputs": [],
   "source": [
    "pd.DataFrame(l_all, columns=['genes','s50','calc_most_common_label','most_common_label_count','other_labels&counts'])\\\n",
    ".to_csv(f'deletions_all_{date.today().strftime(\"%d%m%y\")}_mESC.csv', sep='\\t', index=None)"
   ]
  },
  {
   "cell_type": "markdown",
   "id": "3e2fd377-59d4-402c-a7f8-078fcf208825",
   "metadata": {},
   "source": [
    "### insertions"
   ]
  },
  {
   "cell_type": "code",
   "execution_count": 22,
   "id": "c4abec12-3367-42df-ab5f-417d5a7f5c76",
   "metadata": {},
   "outputs": [],
   "source": [
    "l_all1=[]\n",
    "for _,x in df_genes_bins1.iterrows():\n",
    "    bins=[x['chr']+'.'+str(subbin) for subbin in x['bins']]   \n",
    "    verdict=[]\n",
    "    for b in bins:\n",
    "        if b in l_izs:\n",
    "            verdict.append('IZ')\n",
    "        elif b in l_terminations:\n",
    "            verdict.append('termination')\n",
    "        elif b in l_ttr_breaks:\n",
    "            verdict.append('TTR or breakage')\n",
    "        elif b in l_ctrs:\n",
    "            verdict.append('CTR')\n",
    "        elif b in l_noisy:\n",
    "            verdict.append('noisy')\n",
    "        else:\n",
    "            verdict.append('other')\n",
    "    l_all1.append([x['genename'],\n",
    "                   round(df_filled_smoothed_scaled1.loc[2:, bins].apply(getS50, step=0.1).mean(), 2),\n",
    "                  Counter(verdict).most_common()[0][0],Counter(verdict).most_common()[0][1],\n",
    "                  Counter(verdict).most_common()[1:]]\n",
    "                  )"
   ]
  },
  {
   "cell_type": "code",
   "execution_count": 23,
   "id": "3fe704b5-9e8b-4d58-96f3-929cbd97fafc",
   "metadata": {},
   "outputs": [],
   "source": [
    "pd.DataFrame(l_all1, columns=['genes','s50','calc_most_common_label','most_common_label_count','other_labels&counts'])\\\n",
    ".to_csv(f'insertions_all_{date.today().strftime(\"%d%m%y\")}_mESC.csv', sep='\\t', index=None)"
   ]
  }
 ],
 "metadata": {
  "kernelspec": {
   "display_name": "Python 3 (ipykernel)",
   "language": "python",
   "name": "python3"
  },
  "language_info": {
   "codemirror_mode": {
    "name": "ipython",
    "version": 3
   },
   "file_extension": ".py",
   "mimetype": "text/x-python",
   "name": "python",
   "nbconvert_exporter": "python",
   "pygments_lexer": "ipython3",
   "version": "3.9.7"
  }
 },
 "nbformat": 4,
 "nbformat_minor": 5
}
